{
 "cells": [
  {
   "cell_type": "code",
   "execution_count": 1,
   "id": "proper-advantage",
   "metadata": {},
   "outputs": [],
   "source": [
    "import numpy as np\n",
    "import random\n",
    "import time\n",
    "import operator\n",
    "from collections import defaultdict\n",
    "from genetic_algorithm import ga"
   ]
  },
  {
   "cell_type": "code",
   "execution_count": 2,
   "id": "indoor-composite",
   "metadata": {},
   "outputs": [],
   "source": [
    "# Set general parameters\n",
    "chromosome_length = 100\n",
    "size_of_population = 10\n",
    "crossover_type = '2X'"
   ]
  },
  {
   "cell_type": "code",
   "execution_count": 3,
   "id": "prescribed-cemetery",
   "metadata": {},
   "outputs": [],
   "source": [
    "run_dict = {}\n",
    "reliable_num = 0\n",
    "run_num_gen = defaultdict(list)\n",
    "run_num_fitnessfunc = defaultdict(list)\n",
    "run_cpu_time = defaultdict(list)"
   ]
  },
  {
   "cell_type": "code",
   "execution_count": 4,
   "id": "standing-mission",
   "metadata": {
    "scrolled": true
   },
   "outputs": [],
   "source": [
    "while(reliable_num < 24):\n",
    "    \n",
    "    population_size_array = np.array([])\n",
    "    success_population_sizes = np.array([])\n",
    "    outcome_array = np.array([]).reshape(0,2)\n",
    "    \n",
    "    new_population_size = size_of_population\n",
    "    crossover_operator = crossover_type\n",
    "    \n",
    "    bisection_search = 0\n",
    "    num_generation = 0 \n",
    "    num_fitnessfunc = 0\n",
    "    \n",
    "    while(True):\n",
    "        start = time.time()\n",
    "        population = ga.create_starting_population(int(new_population_size), chromosome_length)\n",
    "        outcome = ga.run_generation(population, crossover_operator)\n",
    "\n",
    "        population_size_array = np.hstack((population_size_array,new_population_size))\n",
    "        if(outcome == \"Fail\" and new_population_size <= 2560):\n",
    "            if(bisection_search == 0):\n",
    "                new_population_size = new_population_size*2\n",
    "            else:\n",
    "                midpoint_gap = abs((population_size_array[-1] - population_size_array[-2]))/2\n",
    "                if(midpoint_gap < 10):\n",
    "                    break\n",
    "                new_population_size =  population_size_array[-1] + midpoint_gap    \n",
    "\n",
    "        else:\n",
    "        \n",
    "            success_population_sizes = np.hstack((success_population_sizes,new_population_size))\n",
    "            outcome_array = np.vstack((outcome_array,outcome))\n",
    "            \n",
    "            if(len(population_size_array)==1):\n",
    "                break\n",
    "                \n",
    "            bisection_search = 1\n",
    "            midpoint_gap = abs((population_size_array[-1] - population_size_array[-2]))/2\n",
    "            \n",
    "            if(midpoint_gap < 10):\n",
    "                break\n",
    "            new_population_size = population_size_array[-1] - midpoint_gap\n",
    "    \n",
    "    end = time.time()\n",
    "    elapsed_time = end - start\n",
    "    optimal_population_size = success_population_sizes[-1]\n",
    "    \n",
    "    \n",
    "    if (str(int(optimal_population_size)) not in run_dict.keys()):\n",
    "        run_dict[str(int(optimal_population_size))] = [0,0,0,0,0]\n",
    "        run_dict[str(int(optimal_population_size))][0] = int(optimal_population_size)\n",
    "        \n",
    "    run_dict[str(int(optimal_population_size))][1] += 1\n",
    "    reliable_num += 1\n",
    "    \n",
    "    run_dict[str(int(optimal_population_size))][2] += outcome_array[-1][0]\n",
    "    run_num_gen[str(int(optimal_population_size))].append(outcome_array[-1][0])\n",
    "    \n",
    "    run_dict[str(int(optimal_population_size))][3] += outcome_array[-1][1]\n",
    "    run_num_fitnessfunc[str(int(optimal_population_size))].append(outcome_array[-1][1])\n",
    "    \n",
    "    run_dict[str(int(optimal_population_size))][4] += elapsed_time\n",
    "    run_cpu_time[str(int(optimal_population_size))].append(elapsed_time)\n",
    "    \n",
    "    run_dict_sorted = dict(sorted(run_dict.items(), key=operator.itemgetter(1)))\n",
    "    \n",
    "\n",
    "optimal_population_size = int(list(run_dict_sorted.keys())[0])\n",
    "observations = run_dict_sorted[list(run_dict_sorted.keys())[0]]\n",
    "averaged_observations = [i/observations[1] for i in observations[1:]]\n",
    "\n",
    "f = open(\"observations25.txt\", \"w\")\n",
    "\n",
    "f.write(f'Chromosome_length: {chromosome_length}\\n')\n",
    "f.write(f'Crossover operator used: {crossover_operator}\\n')\n",
    "f.write(f'Optimal_population_size: {optimal_population_size}\\n')\n",
    "f.write(f'Average number of generations for optimal_population_size: {int(averaged_observations[0])} (std: {np.std(run_num_gen[str(optimal_population_size)])})\\n')\n",
    "f.write(f'Average number of fitness function evaluations for optimal_population_size: {int(averaged_observations[1])} (std: {np.std(run_num_fitnessfunc[str(optimal_population_size)])})\\n')\n",
    "f.write(f'Average CPU time for optimal_population_size: {averaged_observations[2]} (std: {np.std(run_cpu_time[str(optimal_population_size)])})\\n')\n",
    "f.close()"
   ]
  },
  {
   "cell_type": "code",
   "execution_count": 5,
   "id": "blocked-hardware",
   "metadata": {},
   "outputs": [
    {
     "data": {
      "text/plain": [
       "[10, 1, 1.0, 5.0, 0.0009970664978027344]"
      ]
     },
     "execution_count": 5,
     "metadata": {},
     "output_type": "execute_result"
    }
   ],
   "source": [
    "observations"
   ]
  },
  {
   "cell_type": "code",
   "execution_count": 6,
   "id": "earlier-marshall",
   "metadata": {},
   "outputs": [
    {
     "data": {
      "text/plain": [
       "[1.0, 1.0, 5.0, 0.0]"
      ]
     },
     "execution_count": 6,
     "metadata": {},
     "output_type": "execute_result"
    }
   ],
   "source": [
    "averaged_observations"
   ]
  },
  {
   "cell_type": "code",
   "execution_count": 6,
   "id": "measured-report",
   "metadata": {},
   "outputs": [
    {
     "data": {
      "text/plain": [
       "{'10': [10, 1, 1.0, 5.0, 0.0009970664978027344],\n",
       " '20': [20, 4, 4.0, 40.0, 0.0039441585540771484],\n",
       " '30': [30, 3, 3.0, 45.0, 0.004950523376464844],\n",
       " '40': [40, 3, 3.0, 60.0, 0.009832620620727539],\n",
       " '50': [50, 3, 3.0, 75.0, 0.0070476531982421875],\n",
       " '60': [60, 2, 4.0, 120.0, 0.014493703842163086],\n",
       " '70': [70, 1, 1.0, 35.0, 0.003992795944213867],\n",
       " '80': [80, 3, 3.0, 120.0, 0.03308582305908203],\n",
       " '90': [90, 3, 3.0, 135.0, 0.017836570739746094],\n",
       " '140': [140, 1, 1.0, 70.0, 0.025186777114868164]}"
      ]
     },
     "execution_count": 6,
     "metadata": {},
     "output_type": "execute_result"
    }
   ],
   "source": [
    "run_dict_sorted"
   ]
  },
  {
   "cell_type": "code",
   "execution_count": 5,
   "id": "revised-garage",
   "metadata": {},
   "outputs": [
    {
     "data": {
      "text/plain": [
       "{'20': [6, 6.0, 60.0, 0.005654335021972656],\n",
       " '40': [4, 4.0, 80.0, 0.01650857925415039],\n",
       " '110': [2, 2.0, 110.0, 0.010192155838012695],\n",
       " '100': [2, 2.0, 100.0, 0.029889583587646484],\n",
       " '30': [2, 2.0, 30.0, 0.003972291946411133],\n",
       " '10': [2, 2.0, 10.0, 0.0],\n",
       " '190': [1, 1.0, 95.0, 0.007974863052368164],\n",
       " '120': [1, 1.0, 60.0, 0.015960693359375],\n",
       " '90': [1, 1.0, 45.0, 0.004011869430541992],\n",
       " '80': [1, 1.0, 40.0, 0.014956474304199219],\n",
       " '60': [1, 1.0, 30.0, 0.007128000259399414],\n",
       " '50': [1, 1.0, 25.0, 0.001995086669921875]}"
      ]
     },
     "execution_count": 5,
     "metadata": {},
     "output_type": "execute_result"
    }
   ],
   "source": [
    "run_dict_sorted"
   ]
  },
  {
   "cell_type": "code",
   "execution_count": null,
   "id": "stupid-novelty",
   "metadata": {},
   "outputs": [],
   "source": []
  }
 ],
 "metadata": {
  "kernelspec": {
   "display_name": "Python 3",
   "language": "python",
   "name": "python3"
  },
  "language_info": {
   "codemirror_mode": {
    "name": "ipython",
    "version": 3
   },
   "file_extension": ".py",
   "mimetype": "text/x-python",
   "name": "python",
   "nbconvert_exporter": "python",
   "pygments_lexer": "ipython3",
   "version": "3.7.9"
  }
 },
 "nbformat": 4,
 "nbformat_minor": 5
}
