{
 "cells": [
  {
   "cell_type": "code",
   "execution_count": 1,
   "id": "ranking-saturn",
   "metadata": {},
   "outputs": [],
   "source": [
    "import numpy as np\n",
    "import random\n",
    "from random import choices\n",
    "import time\n",
    "import operator\n",
    "import copy\n",
    "from collections import defaultdict\n",
    "np.set_printoptions(suppress=True)"
   ]
  },
  {
   "cell_type": "code",
   "execution_count": 2,
   "id": "systematic-session",
   "metadata": {},
   "outputs": [],
   "source": [
    "chromosome_length = 100\n",
    "population_size = 250"
   ]
  },
  {
   "cell_type": "code",
   "execution_count": 3,
   "id": "conservative-office",
   "metadata": {},
   "outputs": [],
   "source": [
    "def create_starting_population(individuals, chromosome_length):\n",
    "    # Set up an initial array of all zeros\n",
    "    population = np.zeros((individuals, chromosome_length))\n",
    "    # Loop through each row (individual)\n",
    "    for i in range(individuals):\n",
    "        # Choose a random number of ones to create\n",
    "        individual = np.array([])\n",
    "        for j in range(chromosome_length):\n",
    "            choice = choices([0,1])[0]\n",
    "            individual = np.hstack((individual,choice))\n",
    "        \n",
    "        population[i] = individual\n",
    "        # Shuffle row\n",
    "        np.random.shuffle(population[i])\n",
    "\n",
    "    return population\n",
    "\n",
    "def calculate_fitness(population):\n",
    "    # Counting-ones fitness evaluation\n",
    "    fitness_scores = [np.sum(p) for p in population]\n",
    "    return fitness_scores\n",
    "\n",
    "\n",
    "def two_point_crossover(parent_1, parent_2):\n",
    "\n",
    "    chromosome_length = len(parent_1)\n",
    "    # Pick random crossover points\n",
    "    crossover_point1 = random.randint(1,chromosome_length)\n",
    "    crossover_point2 = random.randint(1,chromosome_length-1)\n",
    "\n",
    "    if crossover_point2 < crossover_point1:\n",
    "        crossover_point1, crossover_point2 = crossover_point2, crossover_point1\n",
    "\n",
    "    # Create children by swapping bit string in between crossover points\n",
    "\n",
    "    child_1 = np.hstack((parent_1[0:crossover_point1],\n",
    "                        parent_2[crossover_point1:crossover_point2],\n",
    "                        parent_1[crossover_point2:]))\n",
    "\n",
    "    child_2 = np.hstack((parent_2[0:crossover_point1],\n",
    "                        parent_1[crossover_point1:crossover_point2],\n",
    "                        parent_2[crossover_point2:]))\n",
    "\n",
    "    # Return children\n",
    "    return child_1, child_2\n",
    "\n",
    "\n",
    "\n",
    "def uniform_crossover(parent_1, parent_2):\n",
    "    chromosome_length = len(parent_1)\n",
    "    child_1 = np.array([])\n",
    "    child_2 = np.array([])\n",
    "    \n",
    "    for i in range(chromosome_length):\n",
    "        # drawn at random\n",
    "        choice = choices([parent_1[i],parent_2[i]])[0]\n",
    "        compare = choice==parent_1[i]\n",
    "        if compare==True:\n",
    "            child_1  = np.hstack((child_1,parent_1[i]))\n",
    "            child_2  = np.hstack((child_2,parent_2[i]))\n",
    "        else:\n",
    "            child_1  = np.hstack((child_1,parent_2[i]))\n",
    "            child_2  = np.hstack((child_2,parent_1[i]))\n",
    "    # Return children\n",
    "    return child_1, child_2\n",
    "\n",
    "\n",
    "def check_stopping_criterion(fitness_values):\n",
    "    parent1_fitness = fitness_values[0]\n",
    "    parent2_fitness = fitness_values[1]\n",
    "    child1_fitness = fitness_values[2]\n",
    "    child2_fitness = fitness_values[3]\n",
    "\n",
    "    # Find parent with highest fitness\n",
    "    if(parent1_fitness > parent2_fitness):\n",
    "        max_parent_fitness = parent1_fitness\n",
    "    else:\n",
    "        max_parent_fitness = parent2_fitness\n",
    "\n",
    "    # Check if both children have lower fitness than the best parent\n",
    "    if(child1_fitness <= max_parent_fitness and child2_fitness <= max_parent_fitness):\n",
    "        # stopping criterion triggered\n",
    "        return True\n",
    "\n",
    "    else:\n",
    "        return False"
   ]
  },
  {
   "cell_type": "code",
   "execution_count": 4,
   "id": "secondary-clause",
   "metadata": {},
   "outputs": [],
   "source": [
    "population = create_starting_population(int(population_size), chromosome_length)\n",
    "num_bits = len(population)*len(population[0])\n",
    "\n",
    "plot_dict = defaultdict(list)\n",
    "prop = int(np.sum(population))/num_bits  \n",
    "plot_dict[str(0)] = [prop,0,0]"
   ]
  },
  {
   "cell_type": "code",
   "execution_count": 5,
   "id": "geological-spray",
   "metadata": {},
   "outputs": [],
   "source": [
    "def run_generation(population,crossover_operator):\n",
    "    num_generation = 0\n",
    "    while(True):\n",
    "        #print(list(plot_dict.values())[-1])\n",
    "        selection_errors = 0\n",
    "        correct_selection_decisions = 0\n",
    "        num_generation += 1\n",
    "        #flag = 1\n",
    "        population_size = len(population) \n",
    "        chromosome_length = len(population[0])\n",
    "        # Create an empty list for new population\n",
    "        new_population = np.array([]).reshape(0, chromosome_length)\n",
    "        # Create new popualtion generating two children at a time\n",
    "        for i in range(0,population_size-1,2):\n",
    "            parent_1 = population[i]\n",
    "            parent_2 = population[i+1]\n",
    "\n",
    "            # Perform unifrom crossover\n",
    "            if crossover_operator == 'UX':\n",
    "                child_1, child_2 =  uniform_crossover(parent_1, parent_2)\n",
    "            # Perform two-point crossover\n",
    "            elif crossover_operator == '2X':\n",
    "                child_1, child_2 = two_point_crossover(parent_1, parent_2)\n",
    "            else:\n",
    "                warnings.warn(\"Use '2X' for two-point crossover and 'UX' for uniform crossover\")\n",
    "\n",
    "           # Family of 4\n",
    "            family = np.array([parent_1,parent_2,child_1,child_2])\n",
    " \n",
    "            family_fitness = calculate_fitness(family)\n",
    "            best_two = np.argsort(family_fitness)[::-1][:2]\n",
    "            best_in_family = family[best_two]\n",
    "            \n",
    "            for q in range(chromosome_length):\n",
    "                if parent_1[q]!=parent_2[q]:\n",
    "                    if (best_in_family[0][q]==0 and best_in_family[1][q]==0):\n",
    "                        selection_errors += 1\n",
    "                    elif (best_in_family[0][q]==1 and best_in_family[1][q]==1):\n",
    "                        correct_selection_decisions += 1\n",
    "            #print(calculate_fitness(best_in_family))\n",
    "            new_population =  np.vstack((new_population, best_in_family))    \n",
    "            \n",
    "        # Replace the old population with the new one\n",
    "        for k in new_population :\n",
    "            np.random.shuffle(k)\n",
    "        population = copy.deepcopy(new_population)\n",
    "        new_population = np.array([]).reshape(0, chromosome_length)\n",
    "        scores = calculate_fitness(population)  \n",
    "        \n",
    "        # Check if global optimum has been found    \n",
    "        best_score = np.max(scores)\n",
    "        #print(num_generation,best_score)\n",
    "        if(best_score==100):\n",
    "            # Return number of generations and number of fitness function evaluations\n",
    "            prop=1.0\n",
    "            plot_dict[str(num_generation)] = [prop,selection_errors,correct_selection_decisions]\n",
    "            return num_generation\n",
    "        \n",
    "        prop = int(np.sum(population))/num_bits \n",
    "        plot_dict[str(num_generation)] = [prop,selection_errors,correct_selection_decisions]"
   ]
  },
  {
   "cell_type": "code",
   "execution_count": 6,
   "id": "instrumental-wholesale",
   "metadata": {
    "scrolled": true
   },
   "outputs": [],
   "source": [
    "crossover_operator = 'UX'\n",
    "outcome = run_generation(population, crossover_operator)"
   ]
  },
  {
   "cell_type": "code",
   "execution_count": 7,
   "id": "fixed-field",
   "metadata": {},
   "outputs": [],
   "source": [
    "num_gen = list(plot_dict.keys())\n",
    "prop = np.array(list(plot_dict.values()))[:,0]\n",
    "selection_error = np.array(list(plot_dict.values()))[:,1]\n",
    "correct_selection_decision = np.array(list(plot_dict.values()))[:,2]"
   ]
  },
  {
   "cell_type": "code",
   "execution_count": 8,
   "id": "specified-israeli",
   "metadata": {},
   "outputs": [
    {
     "data": {
      "image/png": "[encoded data removed]",
      "text/plain": [
       "<Figure size 432x288 with 1 Axes>"
      ]
     },
     "metadata": {
      "needs_background": "light"
     },
     "output_type": "display_data"
    }
   ],
   "source": [
    "import matplotlib.pyplot as plt\n",
    "plt.plot(num_gen,prop)\n",
    "plt.show()"
   ]
  },
  {
   "cell_type": "code",
   "execution_count": 9,
   "id": "dominant-amount",
   "metadata": {},
   "outputs": [
    {
     "data": {
      "image/png": "[encoded data removed]",
      "text/plain": [
       "<Figure size 432x288 with 1 Axes>"
      ]
     },
     "metadata": {
      "needs_background": "light"
     },
     "output_type": "display_data"
    }
   ],
   "source": [
    "plt.plot(num_gen[1:],selection_error[1:])\n",
    "plt.show()"
   ]
  },
  {
   "cell_type": "code",
   "execution_count": 10,
   "id": "interior-scroll",
   "metadata": {},
   "outputs": [
    {
     "data": {
      "image/png": "[encoded data removed]",
      "text/plain": [
       "<Figure size 432x288 with 1 Axes>"
      ]
     },
     "metadata": {
      "needs_background": "light"
     },
     "output_type": "display_data"
    }
   ],
   "source": [
    "plt.plot(num_gen[1:],correct_selection_decision[1:])\n",
    "plt.show()"
   ]
  },
  {
   "cell_type": "code",
   "execution_count": null,
   "id": "every-portal",
   "metadata": {},
   "outputs": [],
   "source": []
  }
 ],
 "metadata": {
  "kernelspec": {
   "display_name": "Python 3",
   "language": "python",
   "name": "python3"
  },
  "language_info": {
   "codemirror_mode": {
    "name": "ipython",
    "version": 3
   },
   "file_extension": ".py",
   "mimetype": "text/x-python",
   "name": "python",
   "nbconvert_exporter": "python",
   "pygments_lexer": "ipython3",
   "version": "3.7.9"
  }
 },
 "nbformat": 4,
 "nbformat_minor": 5
}
