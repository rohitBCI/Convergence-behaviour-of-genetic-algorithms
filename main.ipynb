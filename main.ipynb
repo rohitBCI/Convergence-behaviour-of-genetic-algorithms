{
 "cells": [
  {
   "cell_type": "code",
   "execution_count": 2,
   "id": "federal-battery",
   "metadata": {},
   "outputs": [],
   "source": [
    "import numpy as np\n",
    "import random\n",
    "from genetic_algorithm import Genetic_Algorithm as ga"
   ]
  },
  {
   "cell_type": "code",
   "execution_count": 3,
   "id": "loaded-result",
   "metadata": {},
   "outputs": [],
   "source": [
    "# Set general parameters\n",
    "chromosome_length = 100\n",
    "population_size = 20\n",
    "maximum_generation = 200\n",
    "best_score_progress = [] # Tracks progress"
   ]
  },
  {
   "cell_type": "code",
   "execution_count": 4,
   "id": "serial-hotel",
   "metadata": {},
   "outputs": [],
   "source": [
    "# Create starting population\n",
    "population = ga.create_starting_population(population_size, chromosome_length)"
   ]
  },
  {
   "cell_type": "code",
   "execution_count": 5,
   "id": "perfect-shelter",
   "metadata": {},
   "outputs": [
    {
     "data": {
      "text/plain": [
       "(20, 100)"
      ]
     },
     "execution_count": 5,
     "metadata": {},
     "output_type": "execute_result"
    }
   ],
   "source": [
    "population.shape"
   ]
  },
  {
   "cell_type": "code",
   "execution_count": 28,
   "id": "general-complement",
   "metadata": {},
   "outputs": [
    {
     "name": "stdout",
     "output_type": "stream",
     "text": [
      "Starting best score, % target:  91.0\n"
     ]
    }
   ],
   "source": [
    "# Display best score in starting population\n",
    "scores = ga.calculate_fitness(population)\n",
    "best_score = np.max(scores)/chromosome_length * 100\n",
    "print ('Starting best score, % target: ',best_score)"
   ]
  },
  {
   "cell_type": "code",
   "execution_count": 29,
   "id": "chemical-operations",
   "metadata": {},
   "outputs": [],
   "source": [
    "# Add starting best score to progress tracker\n",
    "best_score_progress.append(best_score)"
   ]
  },
  {
   "cell_type": "code",
   "execution_count": 31,
   "id": "complete-hypothetical",
   "metadata": {},
   "outputs": [
    {
     "name": "stdout",
     "output_type": "stream",
     "text": [
      "End best score, percent target: 100.0\n"
     ]
    }
   ],
   "source": [
    "# Now we'll go through the generations of genetic algorithm\n",
    "for generation in range(maximum_generation):\n",
    "    # Create an empty list for new population\n",
    "    new_population = []\n",
    "    \n",
    "    # Create new popualtion generating two children at a time\n",
    "    for i in range(int(population_size/2)):\n",
    "        parent_1 = ga.select_individual_by_tournament(population, scores)\n",
    "        parent_2 = ga.select_individual_by_tournament(population, scores)\n",
    "        child_1, child_2 = ga.breed_by_crossover(parent_1, parent_2)\n",
    "        new_population.append(child_1)\n",
    "        new_population.append(child_2)\n",
    "    \n",
    "    # Replace the old population with the new one\n",
    "    population = np.array(new_population)\n",
    "    \n",
    "    # Apply mutation\n",
    "    mutation_rate = 0.002\n",
    "    population = ga.randomly_mutate_population(population, mutation_rate)\n",
    "\n",
    "    # Score best solution, and add to tracker\n",
    "    scores = ga.calculate_fitness(population)\n",
    "    best_score = np.max(scores)/chromosome_length * 100\n",
    "    best_score_progress.append(best_score)\n",
    "\n",
    "# GA has completed required generation\n",
    "print ('End best score, percent target: %.1f' %best_score)"
   ]
  },
  {
   "cell_type": "code",
   "execution_count": 32,
   "id": "center-helicopter",
   "metadata": {},
   "outputs": [
    {
     "data": {
      "image/png": "[encoded data removed]",
      "text/plain": [
       "<Figure size 432x288 with 1 Axes>"
      ]
     },
     "metadata": {
      "needs_background": "light"
     },
     "output_type": "display_data"
    }
   ],
   "source": [
    "# Plot progress\n",
    "import matplotlib.pyplot as plt\n",
    "plt.plot(best_score_progress)\n",
    "plt.xlabel('Generation')\n",
    "plt.ylabel('Best score (% target)')\n",
    "plt.show()"
   ]
  },
  {
   "cell_type": "code",
   "execution_count": null,
   "id": "fallen-contest",
   "metadata": {},
   "outputs": [],
   "source": []
  }
 ],
 "metadata": {
  "kernelspec": {
   "display_name": "Python 3",
   "language": "python",
   "name": "python3"
  },
  "language_info": {
   "codemirror_mode": {
    "name": "ipython",
    "version": 3
   },
   "file_extension": ".py",
   "mimetype": "text/x-python",
   "name": "python",
   "nbconvert_exporter": "python",
   "pygments_lexer": "ipython3",
   "version": "3.7.9"
  }
 },
 "nbformat": 4,
 "nbformat_minor": 5
}
