{
 "cells": [
  {
   "cell_type": "code",
   "execution_count": 1,
   "id": "contemporary-spider",
   "metadata": {},
   "outputs": [],
   "source": [
    "import numpy as np\n",
    "import random\n",
    "from genetic_algorithm import Genetic_Algorithm as ga"
   ]
  },
  {
   "cell_type": "code",
   "execution_count": 2,
   "id": "outside-bradley",
   "metadata": {},
   "outputs": [],
   "source": [
    "# Set general parameters\n",
    "chromosome_length = 100\n",
    "population_size = 10\n",
    "maximum_generation = 10\n",
    "best_score_progress = [] # Tracks progress"
   ]
  },
  {
   "cell_type": "code",
   "execution_count": 3,
   "id": "sufficient-progressive",
   "metadata": {},
   "outputs": [],
   "source": [
    "# Create starting population\n",
    "population = ga.create_starting_population(population_size, chromosome_length)"
   ]
  },
  {
   "cell_type": "code",
   "execution_count": 4,
   "id": "soviet-structure",
   "metadata": {},
   "outputs": [
    {
     "data": {
      "text/plain": [
       "(10, 100)"
      ]
     },
     "execution_count": 4,
     "metadata": {},
     "output_type": "execute_result"
    }
   ],
   "source": [
    "population.shape"
   ]
  },
  {
   "cell_type": "code",
   "execution_count": 5,
   "id": "perfect-roller",
   "metadata": {},
   "outputs": [
    {
     "name": "stdout",
     "output_type": "stream",
     "text": [
      "Starting best score, % target:  97.0\n"
     ]
    }
   ],
   "source": [
    "# Display best score in starting population\n",
    "scores = ga.calculate_fitness(population)\n",
    "best_score = np.max(scores)/chromosome_length * 100\n",
    "print ('Starting best score, % target: ',best_score)"
   ]
  },
  {
   "cell_type": "code",
   "execution_count": 6,
   "id": "rising-niagara",
   "metadata": {},
   "outputs": [],
   "source": [
    "# Add starting best score to progress tracker\n",
    "best_score_progress.append(best_score)"
   ]
  },
  {
   "cell_type": "code",
   "execution_count": 7,
   "id": "governmental-chicken",
   "metadata": {
    "scrolled": true
   },
   "outputs": [
    {
     "name": "stdout",
     "output_type": "stream",
     "text": [
      "[65.0, 42.0, 60.0, 47.0] 1\n",
      "[33.0, 39.0, 35.0, 37.0] 1\n",
      "[43.0, 40.0, 39.0, 44.0] 1\n",
      "[65.0, 85.0, 69.0, 81.0] 0\n",
      "[97.0, 82.0, 83.0, 96.0] 0\n",
      "Generation : 1, score : 97.0\n",
      "[65.0, 60.0, 65.0, 60.0] 1\n",
      "[39.0, 37.0, 37.0, 39.0] 1\n",
      "[44.0, 43.0, 44.0, 43.0] 1\n",
      "[85.0, 81.0, 85.0, 81.0] 1\n",
      "[97.0, 96.0, 97.0, 96.0] 1\n",
      "End best score, percent target: 97.0\n"
     ]
    }
   ],
   "source": [
    "# Now we'll go through the generations of genetic algorithm\n",
    "num_generation = 0\n",
    "while(True):\n",
    "    num_generation += 1\n",
    "    flag = 1\n",
    "    \n",
    "    # Create an empty list for new population\n",
    "    new_population = np.array([]).reshape(0,100)\n",
    "    \n",
    "    \n",
    "    # Create new popualtion generating two children at a time\n",
    "    for i in range(0,population_size-1,2):\n",
    "        parent_1 = population[i]\n",
    "        parent_2 = population[i+1]\n",
    "        child_1, child_2 = ga.two_point_crossover(parent_1, parent_2)\n",
    "        family = np.array([parent_1,parent_2,child_1,child_2])\n",
    "        family_fitness = ga.calculate_fitness(family)\n",
    "        #print(family_fitness,flag)\n",
    "        stopping_criterion  = ga.check_stopping_criterion(family_fitness)\n",
    "        if(stopping_criterion == False):\n",
    "            flag=0\n",
    "        best_two = np.argsort(family_fitness)[::-1][:2]\n",
    "        best_in_family = family[best_two]\n",
    "        new_population =  np.vstack((new_population, best_in_family))\n",
    "        \n",
    "    # Replace the old population with the new one\n",
    "    population = np.array(new_population)\n",
    "    \n",
    "    # Score best solution, and add to tracker\n",
    "    scores = ga.calculate_fitness(population)\n",
    "    best_score = np.max(scores)/chromosome_length * 100\n",
    "    best_score_progress.append(best_score)\n",
    "    if(best_score==100 or flag==1):\n",
    "        break\n",
    "    else:\n",
    "        print(f'Generation : {num_generation}, score : {best_score}')\n",
    "# GA has completed required generation\n",
    "print ('End best score, percent target: %.1f' %best_score)"
   ]
  },
  {
   "cell_type": "code",
   "execution_count": 9,
   "id": "about-coating",
   "metadata": {},
   "outputs": [
    {
     "data": {
      "image/png": "[encoded data removed]",
      "text/plain": [
       "<Figure size 432x288 with 1 Axes>"
      ]
     },
     "metadata": {
      "needs_background": "light"
     },
     "output_type": "display_data"
    }
   ],
   "source": [
    "# Plot progress\n",
    "import matplotlib.pyplot as plt\n",
    "plt.plot(best_score_progress)\n",
    "plt.xlabel('Generation')\n",
    "plt.ylabel('Best score (% target)')\n",
    "plt.show()"
   ]
  },
  {
   "cell_type": "code",
   "execution_count": null,
   "id": "frank-whale",
   "metadata": {},
   "outputs": [],
   "source": []
  }
 ],
 "metadata": {
  "kernelspec": {
   "display_name": "Python 3",
   "language": "python",
   "name": "python3"
  },
  "language_info": {
   "codemirror_mode": {
    "name": "ipython",
    "version": 3
   },
   "file_extension": ".py",
   "mimetype": "text/x-python",
   "name": "python",
   "nbconvert_exporter": "python",
   "pygments_lexer": "ipython3",
   "version": "3.7.9"
  }
 },
 "nbformat": 4,
 "nbformat_minor": 5
}
