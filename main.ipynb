{
 "cells": [
  {
   "cell_type": "code",
   "execution_count": 1,
   "id": "duplicate-aircraft",
   "metadata": {},
   "outputs": [],
   "source": [
    "import numpy as np\n",
    "import random\n",
    "import time\n",
    "import operator\n",
    "from genetic_algorithm import ga"
   ]
  },
  {
   "cell_type": "code",
   "execution_count": 2,
   "id": "fallen-magic",
   "metadata": {},
   "outputs": [
    {
     "name": "stderr",
     "output_type": "stream",
     "text": [
      "C:\\Users\\Rohit\\anaconda3\\envs\\tensorflow\\lib\\site-packages\\ipykernel_launcher.py:25: FutureWarning: elementwise comparison failed; returning scalar instead, but in the future will perform elementwise comparison\n"
     ]
    },
    {
     "ename": "NameError",
     "evalue": "name 'end' is not defined",
     "output_type": "error",
     "traceback": [
      "\u001b[1;31m---------------------------------------------------------------------------\u001b[0m",
      "\u001b[1;31mNameError\u001b[0m                                 Traceback (most recent call last)",
      "\u001b[1;32m<ipython-input-2-6a8fe8a437a3>\u001b[0m in \u001b[0;36m<module>\u001b[1;34m\u001b[0m\n\u001b[0;32m     64\u001b[0m     \u001b[1;31m#print(f'Optimal population: {optimal_population}')\u001b[0m\u001b[1;33m\u001b[0m\u001b[1;33m\u001b[0m\u001b[1;33m\u001b[0m\u001b[0m\n\u001b[0;32m     65\u001b[0m \u001b[1;33m\u001b[0m\u001b[0m\n\u001b[1;32m---> 66\u001b[1;33m     \u001b[0melapsed_time\u001b[0m \u001b[1;33m=\u001b[0m \u001b[0mend\u001b[0m \u001b[1;33m-\u001b[0m \u001b[0mstart\u001b[0m\u001b[1;33m\u001b[0m\u001b[1;33m\u001b[0m\u001b[0m\n\u001b[0m\u001b[0;32m     67\u001b[0m     \u001b[0mrun_dict\u001b[0m\u001b[1;33m[\u001b[0m\u001b[0mstr\u001b[0m\u001b[1;33m(\u001b[0m\u001b[0mint\u001b[0m\u001b[1;33m(\u001b[0m\u001b[0moptimal_population_size\u001b[0m\u001b[1;33m)\u001b[0m\u001b[1;33m)\u001b[0m\u001b[1;33m]\u001b[0m\u001b[1;33m[\u001b[0m\u001b[1;36m3\u001b[0m\u001b[1;33m]\u001b[0m \u001b[1;33m+=\u001b[0m \u001b[0melapsed_time\u001b[0m\u001b[1;33m\u001b[0m\u001b[1;33m\u001b[0m\u001b[0m\n\u001b[0;32m     68\u001b[0m \u001b[1;33m\u001b[0m\u001b[0m\n",
      "\u001b[1;31mNameError\u001b[0m: name 'end' is not defined"
     ]
    }
   ],
   "source": [
    "# Set general parameters\n",
    "chromosome_length = 100\n",
    "population_size = 10\n",
    "#best_score_progress = [] # Tracks progress\n",
    "\n",
    "run_dict = {}\n",
    "reliable_num = 0\n",
    "\n",
    "while(reliable_num < 25):\n",
    "    population_size_array = np.array([])\n",
    "    new_population_size = population_size\n",
    "    crossover_operator = '2X'\n",
    "    bisection_search = 0\n",
    "    success_population_sizes = np.array([])\n",
    "    #success_population = np.array([]).reshape(0,100)\n",
    "    num_generation = 0\n",
    "    num_fitnessfunc = 0\n",
    "    while(True):\n",
    "        start = time.time()\n",
    "        population = ga.create_starting_population(int(new_population_size), chromosome_length)\n",
    "        outcome = ga.run_generation(population, crossover_operator)\n",
    "        num_fitnessfunc += 1\n",
    "        population_size_array = np.hstack((population_size_array,new_population_size))\n",
    "\n",
    "        if(outcome == \"Fail\" and new_population_size <= 2560):\n",
    "            #print(f'Fail - (population size: {len(population)})')\n",
    "            num_generation += 1\n",
    "            if(bisection_search == 0):\n",
    "                new_population_size = new_population_size*2\n",
    "            else:\n",
    "                midpoint_gap = abs((population_size_array[-1] - population_size_array[-2]))/2\n",
    "                if(midpoint_gap < 10):\n",
    "                    break\n",
    "                new_population_size =  population_size_array[-1] + midpoint_gap    \n",
    "\n",
    "        else:\n",
    "            #print(f'Success - (population size: {len(population)})')\n",
    "            num_generation += 1\n",
    "            success_population_sizes = np.hstack((success_population_sizes,new_population_size))\n",
    "            #success_population = np.vstack((success_population,outcome.reshape(1,100)))\n",
    "            if(len(population_size_array)==1):\n",
    "                break\n",
    "            bisection_search = 1\n",
    "            midpoint_gap = abs((population_size_array[-1] - population_size_array[-2]))/2\n",
    "            if(midpoint_gap < 10):\n",
    "                break\n",
    "            new_population_size = population_size_array[-1] - midpoint_gap \n",
    "            population = ga.create_starting_population(int(new_population_size), chromosome_length)\n",
    "    end = time.time()\n",
    "    elapsed_time = end - start\n",
    "    optimal_population_size = success_population_sizes[-1]\n",
    "    #optimal_population = success_population[-1] \n",
    "    \n",
    "    \n",
    "    if (str(int(optimal_population_size)) not in run_dict.keys()):\n",
    "        run_dict[str(int(optimal_population_size))] = [0,0,0,0,0]\n",
    "    run_dict[str(int(optimal_population_size))][0] += 1\n",
    "    run_dict[str(int(optimal_population_size))][1] += num_generation\n",
    "    run_dict[str(int(optimal_population_size))][2] += num_fitnessfunc\n",
    "    run_dict[str(int(optimal_population_size))][3] += elapsed_time\n",
    "    \n",
    "    run_dict_sorted = dict(sorted(run_dict.items(), key=operator.itemgetter(1),reverse=True))\n",
    "    reliable_num = run_dict_sorted[(list(run_dict_sorted.keys())[0])][0]\n",
    "    \n",
    "    #print(f'\\nOptimal population size: {optimal_population_size}')\n",
    "    #print(f'Number of generations: {num_generation}')\n",
    "    #print(f'Optimal population: {optimal_population}')\n",
    "    \n",
    "    \n",
    "   \n",
    "    #print(f'Time elapsed: {elapsed_time}')"
   ]
  },
  {
   "cell_type": "code",
   "execution_count": 7,
   "id": "organizational-stability",
   "metadata": {},
   "outputs": [
    {
     "data": {
      "text/plain": [
       "[25, 100, 100, 0.21912002563476562, 0]"
      ]
     },
     "execution_count": 7,
     "metadata": {},
     "output_type": "execute_result"
    }
   ],
   "source": [
    "sorted_d[list(sorted_d.keys())[0]]"
   ]
  },
  {
   "cell_type": "code",
   "execution_count": null,
   "id": "silver-shepherd",
   "metadata": {
    "scrolled": true
   },
   "outputs": [],
   "source": [
    "a = {}\n",
    "a[\"10\"] = [10, 3]\n",
    "a[\"20\"] = [22, 1]\n",
    "a"
   ]
  },
  {
   "cell_type": "code",
   "execution_count": null,
   "id": "varied-support",
   "metadata": {},
   "outputs": [],
   "source": [
    "import operator\n",
    "sorted_d = dict(sorted(a.items(), key=operator.itemgetter(1),reverse=True))"
   ]
  },
  {
   "cell_type": "code",
   "execution_count": null,
   "id": "statutory-travel",
   "metadata": {},
   "outputs": [],
   "source": [
    "sorted_d[(list(sorted_d.keys())[0])][0]"
   ]
  },
  {
   "cell_type": "code",
   "execution_count": null,
   "id": "velvet-declaration",
   "metadata": {},
   "outputs": [],
   "source": [
    "\n",
    "sorted_d = dict(sorted(d.items(), key=operator.itemgetter(1),reverse=True))"
   ]
  },
  {
   "cell_type": "code",
   "execution_count": null,
   "id": "differential-farmer",
   "metadata": {},
   "outputs": [],
   "source": [
    "list(sorted_d.keys())[0]"
   ]
  },
  {
   "cell_type": "code",
   "execution_count": null,
   "id": "circular-detective",
   "metadata": {},
   "outputs": [],
   "source": [
    "# Plot progress\n",
    "import matplotlib.pyplot as plt\n",
    "plt.plot(best_score_progress)\n",
    "plt.xlabel('Generation')\n",
    "plt.ylabel('Best score (% target)')\n",
    "plt.show()"
   ]
  },
  {
   "cell_type": "code",
   "execution_count": null,
   "id": "verbal-auckland",
   "metadata": {},
   "outputs": [],
   "source": []
  }
 ],
 "metadata": {
  "kernelspec": {
   "display_name": "Python 3",
   "language": "python",
   "name": "python3"
  },
  "language_info": {
   "codemirror_mode": {
    "name": "ipython",
    "version": 3
   },
   "file_extension": ".py",
   "mimetype": "text/x-python",
   "name": "python",
   "nbconvert_exporter": "python",
   "pygments_lexer": "ipython3",
   "version": "3.7.9"
  }
 },
 "nbformat": 4,
 "nbformat_minor": 5
}
