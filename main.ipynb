{
 "cells": [
  {
   "cell_type": "code",
   "execution_count": 1,
   "id": "advance-young",
   "metadata": {},
   "outputs": [],
   "source": [
    "import numpy as np\n",
    "import random\n",
    "import time\n",
    "import operator\n",
    "from collections import defaultdict\n",
    "from genetic_algorithm_trap import ga"
   ]
  },
  {
   "cell_type": "code",
   "execution_count": 2,
   "id": "alternative-waste",
   "metadata": {
    "scrolled": true
   },
   "outputs": [],
   "source": [
    "# Set general parameters\n",
    "chromosome_length = 100\n",
    "population_size = 10\n",
    "trap = 1\n",
    "k=4\n",
    "d=2.5\n",
    "tightly_linked = 0\n",
    "\n",
    "run_dict = {}\n",
    "reliable_num = 0\n",
    "run_num_gen = defaultdict(list)\n",
    "run_num_fitnessfunc = defaultdict(list)\n",
    "run_cpu_time = defaultdict(list)\n",
    "\n",
    "while(reliable_num < 24):\n",
    "    population_size_array = np.array([])\n",
    "    outcome_array = np.array([]).reshape(0,2)\n",
    "    new_population_size = 10\n",
    "    crossover_operator = 'UX'\n",
    "    bisection_search = 0\n",
    "    success_population_sizes = np.array([])\n",
    "    num_generation = 0 \n",
    "    num_fitnessfunc = 0\n",
    "    #success_population = np.array([]).reshape(0,100)\n",
    "    while(True):\n",
    "        start = time.time()\n",
    "        population = ga.create_starting_population(int(new_population_size), chromosome_length)\n",
    "        outcome = ga.run_generation(population, crossover_operator,trap,k,d,tightly_linked)\n",
    "\n",
    "        #num_fitnessfunc += 1\n",
    "        population_size_array = np.hstack((population_size_array,new_population_size))\n",
    "\n",
    "        if(outcome == \"Fail\" and new_population_size <= 2560):\n",
    "            #print(f'Fail - (population size: {len(population)})')\n",
    "            num_generation += 1\n",
    "            if(bisection_search == 0):\n",
    "                new_population_size = new_population_size*2\n",
    "            else:\n",
    "                midpoint_gap = abs((population_size_array[-1] - population_size_array[-2]))/2\n",
    "                if(midpoint_gap < 10):\n",
    "                    break\n",
    "                new_population_size =  population_size_array[-1] + midpoint_gap    \n",
    "\n",
    "        else:\n",
    "            #print(len(population),outcome)\n",
    "            #print(f'Success - (population size: {len(population)})')\n",
    "            #num_generation += 1\n",
    "            success_population_sizes = np.hstack((success_population_sizes,new_population_size))\n",
    "            outcome_array = np.vstack((outcome_array,outcome))\n",
    "        \n",
    "            \n",
    "            if(len(population_size_array)==1):\n",
    "                \n",
    "                break\n",
    "                \n",
    "            bisection_search = 1\n",
    "            midpoint_gap = abs((population_size_array[-1] - population_size_array[-2]))/2\n",
    "            \n",
    "            if(midpoint_gap < 10):\n",
    "                \n",
    "                break\n",
    "            new_population_size = population_size_array[-1] - midpoint_gap\n",
    "        \n",
    "    end = time.time()\n",
    "    elapsed_time = end - start\n",
    "    optimal_population_size = success_population_sizes[-1]\n",
    "   \n",
    "\n",
    "    if (str(int(optimal_population_size)) not in run_dict.keys()):\n",
    "        run_dict[str(int(optimal_population_size))] = [0,0,0,0]\n",
    "    \n",
    "        \n",
    "    run_dict[str(int(optimal_population_size))][0] += 1\n",
    "    \n",
    "    run_dict[str(int(optimal_population_size))][1] += outcome_array[-1][0]\n",
    "    run_num_gen[str(int(optimal_population_size))].append(outcome_array[-1][0])\n",
    "    \n",
    "    run_dict[str(int(optimal_population_size))][2] += outcome_array[-1][1]\n",
    "    run_num_fitnessfunc[str(int(optimal_population_size))].append(outcome_array[-1][1])\n",
    "    \n",
    "    run_dict[str(int(optimal_population_size))][3] += elapsed_time\n",
    "    run_cpu_time[str(int(optimal_population_size))].append(elapsed_time)\n",
    "    \n",
    "    run_dict_sorted = dict(sorted(run_dict.items(), key=operator.itemgetter(1),reverse=True))\n",
    "    reliable_num = run_dict_sorted[(list(run_dict_sorted.keys())[0])][0]\n",
    "    \n",
    "\n",
    "optimal_population_size = int(list(run_dict_sorted.keys())[0])\n",
    "observations = run_dict_sorted[list(run_dict_sorted.keys())[0]]\n",
    "averaged_observations = [i/observations[0] for i in observations[1:]]\n",
    "\n",
    "f = open(\"observations.txt\", \"a\")\n",
    "\n",
    "f.write(f'Chromosome_length: {chromosome_length}\\n')\n",
    "f.write(f'Crossover operator used: {crossover_operator}\\n')\n",
    "if(trap==0):\n",
    "    f.write(f'Fitness function: Counting Ones\\n')\n",
    "else:\n",
    "    if(d==1):\n",
    "        if(tightly_linked==1):\n",
    "            f.write(f'Deceptive (tightly-linked) (k={k},d={d})\\n') \n",
    "        else:\n",
    "            f.write(f'Deceptive (non-tightly-linked) (k={k},d={d})\\n')\n",
    "    else:\n",
    "        if(tightly_linked==1):\n",
    "            f.write(f'Non-Deceptive (tightly-linked) (k={k},d={d})\\n') \n",
    "        else:\n",
    "            f.write(f'Non-Deceptive (non-tightly-linked) (k={k},d={d})\\n')\n",
    "f.write(f'Optimal_population_size: {optimal_population_size}\\n')\n",
    "f.write(f'Average number of generations for optimal_population_size: {int(averaged_observations[0])} (std: {np.std(run_num_gen[str(optimal_population_size)])})\\n')\n",
    "f.write(f'Average number of fitness function evaluations for optimal_population_size: {int(averaged_observations[1])} (std: {np.std(run_num_fitnessfunc[str(optimal_population_size)])})\\n')\n",
    "f.write(f'Average CPU time for optimal_population_size: {averaged_observations[2]} (std: {np.std(run_cpu_time[str(optimal_population_size)])})\\n')\n",
    "f.write(f'\\n\\n')\n",
    "f.close()"
   ]
  },
  {
   "cell_type": "code",
   "execution_count": 3,
   "id": "binary-positive",
   "metadata": {},
   "outputs": [
    {
     "data": {
      "text/plain": [
       "{'40': [24, 26.0, 546.0, 5.630385398864746],\n",
       " '20': [21, 21.0, 231.0, 0.6179354190826416],\n",
       " '10': [14, 14.0, 84.0, 0.2120203971862793],\n",
       " '70': [10, 10.0, 360.0, 1.0603845119476318],\n",
       " '80': [9, 9.0, 369.0, 8.717803001403809],\n",
       " '30': [9, 9.0, 144.0, 0.40879392623901367],\n",
       " '60': [8, 12.0, 372.0, 4.787309169769287],\n",
       " '50': [7, 7.0, 182.0, 0.5329389572143555],\n",
       " '90': [6, 7.0, 322.0, 0.9413938522338867],\n",
       " '100': [5, 5.0, 255.0, 6.216620683670044],\n",
       " '110': [4, 4.0, 224.0, 0.6292660236358643],\n",
       " '170': [3, 3.0, 258.0, 0.7548799514770508],\n",
       " '150': [3, 3.0, 228.0, 0.6667604446411133],\n",
       " '130': [3, 3.0, 198.0, 0.5964818000793457],\n",
       " '210': [1, 1.0, 106.0, 0.3055243492126465],\n",
       " '180': [1, 1.0, 91.0, 3.1210508346557617],\n",
       " '160': [1, 1.0, 81.0, 3.0376229286193848]}"
      ]
     },
     "execution_count": 3,
     "metadata": {},
     "output_type": "execute_result"
    }
   ],
   "source": [
    "run_dict_sorted #non-deceptive trap"
   ]
  },
  {
   "cell_type": "code",
   "execution_count": 3,
   "id": "aggressive-package",
   "metadata": {},
   "outputs": [
    {
     "data": {
      "text/plain": [
       "{'40': [24, 24.0, 480.0, 0.07298612594604492],\n",
       " '20': [12, 12.0, 120.0, 0.011677026748657227],\n",
       " '60': [6, 6.0, 180.0, 0.050072669982910156],\n",
       " '10': [6, 6.0, 30.0, 0.004375934600830078],\n",
       " '110': [5, 5.0, 275.0, 0.024960756301879883],\n",
       " '30': [5, 5.0, 75.0, 0.0059854984283447266],\n",
       " '170': [4, 4.0, 340.0, 0.031018495559692383],\n",
       " '80': [4, 4.0, 160.0, 0.033843278884887695],\n",
       " '70': [4, 4.0, 140.0, 0.014371871948242188],\n",
       " '50': [4, 4.0, 100.0, 0.008040904998779297],\n",
       " '90': [3, 3.0, 135.0, 0.011062145233154297],\n",
       " '210': [1, 1.0, 105.0, 0.009004831314086914],\n",
       " '160': [1, 1.0, 80.0, 0.03390932083129883],\n",
       " '150': [1, 1.0, 75.0, 0.0059931278228759766],\n",
       " '130': [1, 1.0, 65.0, 0.006984710693359375],\n",
       " '100': [1, 1.0, 50.0, 0.013962268829345703]}"
      ]
     },
     "execution_count": 3,
     "metadata": {},
     "output_type": "execute_result"
    }
   ],
   "source": [
    "run_dict_sorted #deceptive trap tightly linked"
   ]
  },
  {
   "cell_type": "code",
   "execution_count": 4,
   "id": "close-avenue",
   "metadata": {},
   "outputs": [
    {
     "data": {
      "text/plain": [
       "{'20': [24, 24.0, 264.0, 0.47948765754699707],\n",
       " '40': [17, 17.0, 357.0, 2.111816167831421],\n",
       " '70': [12, 12.0, 432.0, 0.866034746170044],\n",
       " '10': [11, 11.0, 66.0, 0.10509467124938965],\n",
       " '50': [9, 15.0, 390.0, 0.7617299556732178],\n",
       " '80': [9, 9.0, 369.0, 3.152785539627075],\n",
       " '30': [9, 9.0, 144.0, 0.29491424560546875],\n",
       " '100': [8, 8.0, 408.0, 5.284463167190552],\n",
       " '60': [8, 8.0, 248.0, 2.14479923248291],\n",
       " '90': [6, 8.0, 368.0, 0.8298397064208984],\n",
       " '150': [5, 5.0, 380.0, 0.9088797569274902],\n",
       " '170': [3, 3.0, 258.0, 0.595595121383667],\n",
       " '130': [3, 3.0, 198.0, 0.4000868797302246],\n",
       " '250': [1, 1.0, 126.0, 0.29288554191589355],\n",
       " '180': [1, 1.0, 91.0, 1.4502575397491455],\n",
       " '140': [1, 1.0, 71.0, 1.4940369129180908],\n",
       " '120': [1, 1.0, 61.0, 1.1260251998901367],\n",
       " '110': [1, 1.0, 56.0, 0.11165475845336914]}"
      ]
     },
     "execution_count": 4,
     "metadata": {},
     "output_type": "execute_result"
    }
   ],
   "source": [
    "run_dict_sorted #counting-ones #UX"
   ]
  },
  {
   "cell_type": "code",
   "execution_count": 3,
   "id": "twelve-lebanon",
   "metadata": {},
   "outputs": [
    {
     "data": {
      "text/plain": [
       "{'40': [24, 25.0, 525.0, 0.09699487686157227],\n",
       " '20': [20, 20.0, 220.0, 0.025187015533447266],\n",
       " '70': [15, 15.0, 540.0, 0.05054903030395508],\n",
       " '80': [13, 13.0, 533.0, 0.19904851913452148],\n",
       " '10': [11, 12.0, 72.0, 0.008005857467651367],\n",
       " '30': [9, 9.0, 144.0, 0.013737201690673828],\n",
       " '170': [8, 8.0, 688.0, 0.06680512428283691],\n",
       " '90': [8, 8.0, 368.0, 0.035718441009521484],\n",
       " '60': [7, 7.0, 217.0, 0.04465889930725098],\n",
       " '50': [7, 7.0, 182.0, 0.02086806297302246],\n",
       " '100': [5, 5.0, 255.0, 0.08300042152404785],\n",
       " '120': [4, 4.0, 244.0, 0.0887598991394043],\n",
       " '210': [3, 3.0, 318.0, 0.0334475040435791],\n",
       " '110': [3, 3.0, 168.0, 0.0145416259765625],\n",
       " '130': [2, 2.0, 132.0, 0.0158236026763916],\n",
       " '330': [1, 1.0, 166.0, 0.016954898834228516],\n",
       " '150': [1, 1.0, 76.0, 0.007070064544677734]}"
      ]
     },
     "execution_count": 3,
     "metadata": {},
     "output_type": "execute_result"
    }
   ],
   "source": [
    "run_dict_sorted #counting-ones"
   ]
  },
  {
   "cell_type": "code",
   "execution_count": null,
   "id": "defined-scale",
   "metadata": {},
   "outputs": [],
   "source": []
  }
 ],
 "metadata": {
  "kernelspec": {
   "display_name": "Python 3",
   "language": "python",
   "name": "python3"
  },
  "language_info": {
   "codemirror_mode": {
    "name": "ipython",
    "version": 3
   },
   "file_extension": ".py",
   "mimetype": "text/x-python",
   "name": "python",
   "nbconvert_exporter": "python",
   "pygments_lexer": "ipython3",
   "version": "3.7.9"
  }
 },
 "nbformat": 4,
 "nbformat_minor": 5
}
