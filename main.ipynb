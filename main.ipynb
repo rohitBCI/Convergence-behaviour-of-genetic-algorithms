{
 "cells": [
  {
   "cell_type": "code",
   "execution_count": 1,
   "id": "surprised-grave",
   "metadata": {},
   "outputs": [],
   "source": [
    "import numpy as np\n",
    "import random\n",
    "from genetic_algorithm import ga"
   ]
  },
  {
   "cell_type": "code",
   "execution_count": 2,
   "id": "still-greenhouse",
   "metadata": {},
   "outputs": [],
   "source": [
    "# Set general parameters\n",
    "chromosome_length = 100\n",
    "population_size = 10\n",
    "maximum_generation = 10\n",
    "best_score_progress = [] # Tracks progress\n",
    "\n",
    "# Create starting population\n",
    "population = ga.create_starting_population(population_size, chromosome_length)"
   ]
  },
  {
   "cell_type": "code",
   "execution_count": 3,
   "id": "motivated-merchant",
   "metadata": {},
   "outputs": [
    {
     "name": "stdout",
     "output_type": "stream",
     "text": [
      "Starting best score, % target:  93.0\n"
     ]
    }
   ],
   "source": [
    "# Display best score in starting population\n",
    "scores = ga.calculate_fitness(population)\n",
    "best_score = np.max(scores)/chromosome_length * 100\n",
    "print ('Starting best score, % target: ',best_score)\n",
    "\n",
    "# Add starting best score to progress tracker\n",
    "best_score_progress.append(best_score)"
   ]
  },
  {
   "cell_type": "code",
   "execution_count": 4,
   "id": "frequent-gallery",
   "metadata": {
    "scrolled": true
   },
   "outputs": [
    {
     "name": "stdout",
     "output_type": "stream",
     "text": [
      "Fail - (population size: 10)\n",
      "Fail - (population size: 20)\n",
      "Fail - (population size: 40)\n"
     ]
    },
    {
     "ename": "ValueError",
     "evalue": "The truth value of an array with more than one element is ambiguous. Use a.any() or a.all()",
     "output_type": "error",
     "traceback": [
      "\u001b[1;31m---------------------------------------------------------------------------\u001b[0m",
      "\u001b[1;31mValueError\u001b[0m                                Traceback (most recent call last)",
      "\u001b[1;32m<ipython-input-4-92d5e9fa163a>\u001b[0m in \u001b[0;36m<module>\u001b[1;34m\u001b[0m\n\u001b[0;32m     10\u001b[0m     \u001b[0mpopulation_size_array\u001b[0m \u001b[1;33m=\u001b[0m \u001b[0mnp\u001b[0m\u001b[1;33m.\u001b[0m\u001b[0mhstack\u001b[0m\u001b[1;33m(\u001b[0m\u001b[1;33m(\u001b[0m\u001b[0mpopulation_size_array\u001b[0m\u001b[1;33m,\u001b[0m\u001b[0mnew_population_size\u001b[0m\u001b[1;33m)\u001b[0m\u001b[1;33m)\u001b[0m\u001b[1;33m\u001b[0m\u001b[1;33m\u001b[0m\u001b[0m\n\u001b[0;32m     11\u001b[0m \u001b[1;33m\u001b[0m\u001b[0m\n\u001b[1;32m---> 12\u001b[1;33m     \u001b[1;32mif\u001b[0m\u001b[1;33m(\u001b[0m\u001b[0moutcome\u001b[0m \u001b[1;33m==\u001b[0m \u001b[1;36m0\u001b[0m \u001b[1;32mand\u001b[0m \u001b[0mnew_population_size\u001b[0m \u001b[1;33m<=\u001b[0m \u001b[1;36m2560\u001b[0m\u001b[1;33m)\u001b[0m\u001b[1;33m:\u001b[0m\u001b[1;33m\u001b[0m\u001b[1;33m\u001b[0m\u001b[0m\n\u001b[0m\u001b[0;32m     13\u001b[0m         \u001b[0mprint\u001b[0m\u001b[1;33m(\u001b[0m\u001b[1;34mf'Fail - (population size: {len(population)})'\u001b[0m\u001b[1;33m)\u001b[0m\u001b[1;33m\u001b[0m\u001b[1;33m\u001b[0m\u001b[0m\n\u001b[0;32m     14\u001b[0m         \u001b[1;32mif\u001b[0m\u001b[1;33m(\u001b[0m\u001b[0mbisection_search\u001b[0m \u001b[1;33m==\u001b[0m \u001b[1;36m0\u001b[0m\u001b[1;33m)\u001b[0m\u001b[1;33m:\u001b[0m\u001b[1;33m\u001b[0m\u001b[1;33m\u001b[0m\u001b[0m\n",
      "\u001b[1;31mValueError\u001b[0m: The truth value of an array with more than one element is ambiguous. Use a.any() or a.all()"
     ]
    }
   ],
   "source": [
    "population_size_array = np.array([])\n",
    "new_population_size = population_size\n",
    "crossover_operator = '2X'\n",
    "bisection_search = 0\n",
    "success_population_sizes = np.array([])\n",
    "success_population = np.array([]).reshape(0,100)\n",
    "\n",
    "while(True):\n",
    "    outcome = ga.run_generation(population, crossover_operator)\n",
    "    population_size_array = np.hstack((population_size_array,new_population_size))\n",
    "    \n",
    "    if(outcome == 0 and new_population_size <= 2560):\n",
    "        print(f'Fail - (population size: {len(population)})')\n",
    "        if(bisection_search == 0):\n",
    "            new_population_size = new_population_size*2\n",
    "        else:\n",
    "            midpoint_gap = abs((population_size_array[-1] - population_size_array[-2]))/2\n",
    "            if(midpoint_gap < 10):\n",
    "                break\n",
    "            new_population_size =  population_size_array[-1] + midpoint_gap    \n",
    "        \n",
    "        population = ga.create_starting_population(int(new_population_size), chromosome_length)\n",
    "        \n",
    "    else:\n",
    "        print(f'Success - (population size: {len(population)})')\n",
    "        success_population_sizes = np.hstack((success_population_sizes,new_population_size))\n",
    "        success_population = np.vstack((success_population,outcome.reshape(1,100)))\n",
    "        if(len(population_size_array)==1):\n",
    "            break\n",
    "        bisection_search = 1\n",
    "        midpoint_gap = abs((population_size_array[-1] - population_size_array[-2]))/2\n",
    "        if(midpoint_gap < 10):\n",
    "            break\n",
    "        new_population_size = population_size_array[-1] - midpoint_gap \n",
    "        population = ga.create_starting_population(int(new_population_size), chromosome_length)\n",
    "        \n",
    "optimal_population_size = success_population_sizes[-1]\n",
    "optimal_population = success_population[-1]\n",
    "\n",
    "print(f'\\nOptimal population size: {optimal_population_size}')\n",
    "print(f'Optimal population: {optimal_population}')"
   ]
  },
  {
   "cell_type": "code",
   "execution_count": 6,
   "id": "nonprofit-liabilities",
   "metadata": {},
   "outputs": [
    {
     "data": {
      "image/png": "[encoded data removed]",
      "text/plain": [
       "<Figure size 432x288 with 1 Axes>"
      ]
     },
     "metadata": {
      "needs_background": "light"
     },
     "output_type": "display_data"
    }
   ],
   "source": [
    "# Plot progress\n",
    "import matplotlib.pyplot as plt\n",
    "plt.plot(best_score_progress)\n",
    "plt.xlabel('Generation')\n",
    "plt.ylabel('Best score (% target)')\n",
    "plt.show()"
   ]
  },
  {
   "cell_type": "code",
   "execution_count": null,
   "id": "normal-tunnel",
   "metadata": {},
   "outputs": [],
   "source": []
  }
 ],
 "metadata": {
  "kernelspec": {
   "display_name": "Python 3",
   "language": "python",
   "name": "python3"
  },
  "language_info": {
   "codemirror_mode": {
    "name": "ipython",
    "version": 3
   },
   "file_extension": ".py",
   "mimetype": "text/x-python",
   "name": "python",
   "nbconvert_exporter": "python",
   "pygments_lexer": "ipython3",
   "version": "3.7.9"
  }
 },
 "nbformat": 4,
 "nbformat_minor": 5
}
