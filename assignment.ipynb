{
 "cells": [
  {
   "cell_type": "code",
   "execution_count": 30,
   "id": "instructional-space",
   "metadata": {},
   "outputs": [],
   "source": [
    "import numpy as np\n",
    "import random"
   ]
  },
  {
   "cell_type": "code",
   "execution_count": 31,
   "id": "worthy-grove",
   "metadata": {},
   "outputs": [],
   "source": [
    "def create_starting_population(individuals, chromosome_length):\n",
    "    # Set up an initial array of all zeros\n",
    "    population = np.zeros((individuals, chromosome_length))\n",
    "    # Loop through each row (individual)\n",
    "    for i in range(individuals):\n",
    "        # Choose a random number of ones to create\n",
    "        ones = random.randint(0, chromosome_length)\n",
    "        # Change the required number of zeros to ones\n",
    "        population[i, 0:ones] = 1\n",
    "        # Shuffle row\n",
    "        np.random.shuffle(population[i])\n",
    "    \n",
    "    return population"
   ]
  },
  {
   "cell_type": "code",
   "execution_count": 32,
   "id": "fossil-national",
   "metadata": {},
   "outputs": [],
   "source": [
    "def calculate_fitness(population):\n",
    "    # Create an array of True/False compared to reference\n",
    "    #identical_to_reference = population == reference\n",
    "    # Sum number of genes that are identical to the reference\n",
    "    fitness_scores = [np.sum(p) for p in population]\n",
    "    \n",
    "    return fitness_scores\n",
    "\n",
    "def calculate_fitness_individual(population):\n",
    "    # Create an array of True/False compared to reference\n",
    "    #identical_to_reference = population == reference\n",
    "    # Sum number of genes that are identical to the reference\n",
    "    fitness_scores_individual = np.sum(population)\n",
    "\n",
    "    return fitness_scores_individual"
   ]
  },
  {
   "cell_type": "code",
   "execution_count": 33,
   "id": "administrative-message",
   "metadata": {},
   "outputs": [],
   "source": [
    "def select_individual_by_tournament(population, scores):\n",
    "    # Get population size\n",
    "    population_size = len(scores)\n",
    "    \n",
    "    # Pick individuals for tournament\n",
    "    fighter_1 = random.randint(0, population_size-1)\n",
    "    \n",
    "    fighter_2 = random.randint(0, population_size-1)\n",
    "    \n",
    "    # Get fitness score for each\n",
    "    fighter_1_fitness = scores[fighter_1]\n",
    "    fighter_2_fitness = scores[fighter_2]\n",
    "    \n",
    "    # Identify undividual with highest fitness\n",
    "    # Fighter 1 will win if score are equal\n",
    "    if fighter_1_fitness >= fighter_2_fitness:\n",
    "        winner = fighter_1\n",
    "    else:\n",
    "        winner = fighter_2\n",
    "    \n",
    "    # Return the chromsome of the winner\n",
    "    return population[winner, :]"
   ]
  },
  {
   "cell_type": "code",
   "execution_count": 34,
   "id": "contrary-header",
   "metadata": {},
   "outputs": [],
   "source": [
    "def breed_by_crossover(parent_1, parent_2):\n",
    "    # Get length of chromosome\n",
    "    chromosome_length = len(parent_1)\n",
    "    \n",
    "    # Pick crossover point, avoding ends of chromsome\n",
    "    crossover_point = random.randint(1,chromosome_length-1)\n",
    "    \n",
    "    # Create children. np.hstack joins two arrays\n",
    "    child_1 = np.hstack((parent_1[0:crossover_point],\n",
    "                        parent_2[crossover_point:]))\n",
    "    \n",
    "    child_2 = np.hstack((parent_2[0:crossover_point],\n",
    "                        parent_1[crossover_point:]))\n",
    "    \n",
    "    # Return children\n",
    "    return child_1, child_2\n",
    "\n",
    "def randomly_mutate_population(population, mutation_probability):\n",
    "    \n",
    "    # Apply random mutation\n",
    "    random_mutation_array = np.random.random(\n",
    "        size=(population.shape))\n",
    "\n",
    "    random_mutation_boolean = \\\n",
    "        random_mutation_array <= mutation_probability\n",
    "\n",
    "    population[random_mutation_boolean] = \\\n",
    "    np.logical_not(population[random_mutation_boolean])\n",
    "\n",
    "    # Return mutation population\n",
    "    return population"
   ]
  },
  {
   "cell_type": "code",
   "execution_count": 35,
   "id": "welsh-flashing",
   "metadata": {},
   "outputs": [],
   "source": [
    "# Set general parameters\n",
    "chromosome_length = 100\n",
    "population_size = 100\n",
    "maximum_generation = 200\n",
    "best_score_progress = [] # Tracks progress"
   ]
  },
  {
   "cell_type": "code",
   "execution_count": 36,
   "id": "differential-donna",
   "metadata": {},
   "outputs": [],
   "source": [
    "# Create starting population\n",
    "population = create_starting_population(population_size, chromosome_length)"
   ]
  },
  {
   "cell_type": "code",
   "execution_count": 37,
   "id": "amino-blind",
   "metadata": {},
   "outputs": [
    {
     "data": {
      "text/plain": [
       "(100, 100)"
      ]
     },
     "execution_count": 37,
     "metadata": {},
     "output_type": "execute_result"
    }
   ],
   "source": [
    "population.shape"
   ]
  },
  {
   "cell_type": "code",
   "execution_count": 38,
   "id": "spanish-consideration",
   "metadata": {},
   "outputs": [
    {
     "name": "stdout",
     "output_type": "stream",
     "text": [
      "Starting best score, % target:  99.0\n"
     ]
    }
   ],
   "source": [
    "# Display best score in starting population\n",
    "scores = calculate_fitness(population)\n",
    "best_score = np.max(scores)/chromosome_length * 100\n",
    "print ('Starting best score, % target: ',best_score)"
   ]
  },
  {
   "cell_type": "code",
   "execution_count": 39,
   "id": "major-member",
   "metadata": {},
   "outputs": [],
   "source": [
    "# Add starting best score to progress tracker\n",
    "best_score_progress.append(best_score)"
   ]
  },
  {
   "cell_type": "code",
   "execution_count": 40,
   "id": "delayed-bobby",
   "metadata": {},
   "outputs": [
    {
     "name": "stdout",
     "output_type": "stream",
     "text": [
      "End best score, percent target: 100.0\n"
     ]
    }
   ],
   "source": [
    "# Now we'll go through the generations of genetic algorithm\n",
    "for generation in range(maximum_generation):\n",
    "    # Create an empty list for new population\n",
    "    new_population = []\n",
    "    \n",
    "    # Create new popualtion generating two children at a time\n",
    "    for i in range(int(population_size/2)):\n",
    "        parent_1 = select_individual_by_tournament(population, scores)\n",
    "        parent_2 = select_individual_by_tournament(population, scores)\n",
    "        child_1, child_2 = breed_by_crossover(parent_1, parent_2)\n",
    "        new_population.append(child_1)\n",
    "        new_population.append(child_2)\n",
    "    \n",
    "    # Replace the old population with the new one\n",
    "    population = np.array(new_population)\n",
    "    \n",
    "    # Apply mutation\n",
    "    mutation_rate = 0.002\n",
    "    population = randomly_mutate_population(population, mutation_rate)\n",
    "\n",
    "    # Score best solution, and add to tracker\n",
    "    scores = calculate_fitness(population)\n",
    "    best_score = np.max(scores)/chromosome_length * 100\n",
    "    best_score_progress.append(best_score)\n",
    "\n",
    "# GA has completed required generation\n",
    "print ('End best score, percent target: %.1f' %best_score)"
   ]
  },
  {
   "cell_type": "code",
   "execution_count": 41,
   "id": "white-assembly",
   "metadata": {
    "scrolled": true
   },
   "outputs": [
    {
     "data": {
      "text/plain": [
       "array([[1., 1., 1., ..., 1., 1., 1.],\n",
       "       [1., 1., 1., ..., 1., 1., 1.],\n",
       "       [1., 1., 1., ..., 1., 1., 1.],\n",
       "       ...,\n",
       "       [1., 1., 1., ..., 1., 1., 1.],\n",
       "       [1., 1., 1., ..., 1., 1., 1.],\n",
       "       [1., 1., 1., ..., 1., 1., 1.]])"
      ]
     },
     "execution_count": 41,
     "metadata": {},
     "output_type": "execute_result"
    }
   ],
   "source": [
    "population"
   ]
  },
  {
   "cell_type": "code",
   "execution_count": 42,
   "id": "plain-joint",
   "metadata": {},
   "outputs": [
    {
     "data": {
      "image/png": "[encoded data removed]",
      "text/plain": [
       "<Figure size 432x288 with 1 Axes>"
      ]
     },
     "metadata": {
      "needs_background": "light"
     },
     "output_type": "display_data"
    }
   ],
   "source": [
    "# Plot progress\n",
    "import matplotlib.pyplot as plt\n",
    "plt.plot(best_score_progress)\n",
    "plt.xlabel('Generation')\n",
    "plt.ylabel('Best score (% target)')\n",
    "plt.show()"
   ]
  },
  {
   "cell_type": "code",
   "execution_count": null,
   "id": "hungry-measure",
   "metadata": {},
   "outputs": [],
   "source": []
  }
 ],
 "metadata": {
  "kernelspec": {
   "display_name": "Python 3",
   "language": "python",
   "name": "python3"
  },
  "language_info": {
   "codemirror_mode": {
    "name": "ipython",
    "version": 3
   },
   "file_extension": ".py",
   "mimetype": "text/x-python",
   "name": "python",
   "nbconvert_exporter": "python",
   "pygments_lexer": "ipython3",
   "version": "3.7.9"
  }
 },
 "nbformat": 4,
 "nbformat_minor": 5
}
